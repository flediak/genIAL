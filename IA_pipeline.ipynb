{
  "cells": [
    {
      "cell_type": "markdown",
      "metadata": {
        "id": "view-in-github",
        "colab_type": "text"
      },
      "source": [
        "<a href=\"https://colab.research.google.com/github/flediak/genIAL/blob/main/IA_pipeline.ipynb\" target=\"_parent\"><img src=\"https://colab.research.google.com/assets/colab-badge.svg\" alt=\"Open In Colab\"/></a>"
      ]
    },
    {
      "cell_type": "markdown",
      "metadata": {
        "id": "Oga0nh_UEzCJ"
      },
      "source": [
        "# Intro\n",
        "\n",
        "This notebook shows how to model intrinsic galaxy alignment in a cosmoogical simulation using a modeling pipeline, based on the code genIAL. Once the IA simulation is generated, we compute two different alignment statistics"
      ]
    },
    {
      "cell_type": "markdown",
      "metadata": {
        "id": "5ywDchoVGUGL"
      },
      "source": [
        "# 1) clone genIAL repository and import libraries"
      ]
    },
    {
      "cell_type": "code",
      "execution_count": null,
      "metadata": {
        "colab": {
          "base_uri": "https://localhost:8080/"
        },
        "id": "XP2LZY67FUk1",
        "outputId": "7a99c470-e325-4ada-83ae-6a3599f74bef"
      },
      "outputs": [
        {
          "output_type": "stream",
          "name": "stdout",
          "text": [
            "Cloning into 'genIAL'...\n",
            "remote: Enumerating objects: 32, done.\u001b[K\n",
            "remote: Counting objects: 100% (32/32), done.\u001b[K\n",
            "remote: Compressing objects: 100% (29/29), done.\u001b[K\n",
            "remote: Total 32 (delta 13), reused 9 (delta 3), pack-reused 0\u001b[K\n",
            "Unpacking objects: 100% (32/32), done.\n"
          ]
        }
      ],
      "source": [
        "! git clone https://github.com/flediak/genIAL.git"
      ]
    },
    {
      "cell_type": "code",
      "execution_count": null,
      "metadata": {
        "colab": {
          "base_uri": "https://localhost:8080/"
        },
        "id": "qd8eCNDvGW5z",
        "outputId": "7420d018-53e6-4e99-c521-ea097368c905"
      },
      "outputs": [
        {
          "output_type": "stream",
          "name": "stdout",
          "text": [
            "/content/genIAL\n"
          ]
        }
      ],
      "source": [
        "cd genIAL"
      ]
    },
    {
      "cell_type": "code",
      "execution_count": null,
      "metadata": {
        "id": "PX8jaHU7GYzH"
      },
      "outputs": [],
      "source": [
        "import pkg_resources\n",
        "import numpy as np\n",
        "import pandas as pd\n",
        "from matplotlib import pyplot as plt\n",
        "from genial import Galaxy, IntrinsicAlignment"
      ]
    },
    {
      "cell_type": "markdown",
      "metadata": {
        "id": "Q_XvaIf5IUAM"
      },
      "source": [
        "# 2) Download model input data"
      ]
    },
    {
      "cell_type": "code",
      "source": [
        "! mkdir ../data/"
      ],
      "metadata": {
        "id": "J4ordddyBdiF"
      },
      "execution_count": null,
      "outputs": []
    },
    {
      "cell_type": "markdown",
      "source": [
        "### parameters for modeling galaxy 3D axis ratios"
      ],
      "metadata": {
        "id": "MVN_EeHhBnk5"
      }
    },
    {
      "cell_type": "code",
      "source": [
        "!wget --no-check-certificate 'https://docs.google.com/uc?export=download&id=1F6-XasMtdVk6BuR5TN8GnMc-AiUgu3Mf' -O ../data/ia_shape_parameters.csv"
      ],
      "metadata": {
        "colab": {
          "base_uri": "https://localhost:8080/"
        },
        "id": "ggqehE6zBbkp",
        "outputId": "2a0e6fac-7001-4333-c80e-27c88a5e44f6"
      },
      "execution_count": null,
      "outputs": [
        {
          "output_type": "stream",
          "name": "stdout",
          "text": [
            "--2022-08-10 13:56:56--  https://docs.google.com/uc?export=download&id=1F6-XasMtdVk6BuR5TN8GnMc-AiUgu3Mf\n",
            "Resolving docs.google.com (docs.google.com)... 74.125.20.100, 74.125.20.102, 74.125.20.139, ...\n",
            "Connecting to docs.google.com (docs.google.com)|74.125.20.100|:443... connected.\n",
            "HTTP request sent, awaiting response... 303 See Other\n",
            "Location: https://doc-10-5k-docs.googleusercontent.com/docs/securesc/ha0ro937gcuc7l7deffksulhg5h7mbp1/usajc3tm32f2vbh2n45ks0j71o53khrb/1660139775000/07375493793059712153/*/1F6-XasMtdVk6BuR5TN8GnMc-AiUgu3Mf?e=download&uuid=4d791bab-3e02-41f3-bc86-025a3192c80b [following]\n",
            "Warning: wildcards not supported in HTTP.\n",
            "--2022-08-10 13:56:57--  https://doc-10-5k-docs.googleusercontent.com/docs/securesc/ha0ro937gcuc7l7deffksulhg5h7mbp1/usajc3tm32f2vbh2n45ks0j71o53khrb/1660139775000/07375493793059712153/*/1F6-XasMtdVk6BuR5TN8GnMc-AiUgu3Mf?e=download&uuid=4d791bab-3e02-41f3-bc86-025a3192c80b\n",
            "Resolving doc-10-5k-docs.googleusercontent.com (doc-10-5k-docs.googleusercontent.com)... 74.125.142.132, 2607:f8b0:400e:c08::84\n",
            "Connecting to doc-10-5k-docs.googleusercontent.com (doc-10-5k-docs.googleusercontent.com)|74.125.142.132|:443... connected.\n",
            "HTTP request sent, awaiting response... 200 OK\n",
            "Length: 1998078 (1.9M) [text/csv]\n",
            "Saving to: ‘../data/ia_shape_parameters.csv’\n",
            "\n",
            "../data/ia_shape_pa 100%[===================>]   1.91M  --.-KB/s    in 0.01s   \n",
            "\n",
            "2022-08-10 13:56:57 (158 MB/s) - ‘../data/ia_shape_parameters.csv’ saved [1998078/1998078]\n",
            "\n"
          ]
        }
      ]
    },
    {
      "cell_type": "markdown",
      "metadata": {
        "id": "aX1zszuSHZ6y"
      },
      "source": [
        "### galaxy - halo catalogue"
      ]
    },
    {
      "cell_type": "code",
      "execution_count": null,
      "metadata": {
        "colab": {
          "base_uri": "https://localhost:8080/"
        },
        "id": "OLGa-dSuHR9v",
        "outputId": "928743d1-544d-453a-af0c-ec02d8cebc24"
      },
      "outputs": [
        {
          "output_type": "stream",
          "name": "stdout",
          "text": [
            "--2022-08-10 13:56:59--  https://docs.google.com/uc?export=download&id=1CqboAhfDqNraH-V0WW3D7DX5ctMc17tl\n",
            "Resolving docs.google.com (docs.google.com)... 74.125.20.100, 74.125.20.102, 74.125.20.139, ...\n",
            "Connecting to docs.google.com (docs.google.com)|74.125.20.100|:443... connected.\n",
            "HTTP request sent, awaiting response... 303 See Other\n",
            "Location: https://doc-0c-5k-docs.googleusercontent.com/docs/securesc/ha0ro937gcuc7l7deffksulhg5h7mbp1/kq820lgmo7kbu2ethduv787nc951toaf/1660139775000/07375493793059712153/*/1CqboAhfDqNraH-V0WW3D7DX5ctMc17tl?e=download&uuid=40f0fbe4-1237-4973-8886-5cee800cb44a [following]\n",
            "Warning: wildcards not supported in HTTP.\n",
            "--2022-08-10 13:57:01--  https://doc-0c-5k-docs.googleusercontent.com/docs/securesc/ha0ro937gcuc7l7deffksulhg5h7mbp1/kq820lgmo7kbu2ethduv787nc951toaf/1660139775000/07375493793059712153/*/1CqboAhfDqNraH-V0WW3D7DX5ctMc17tl?e=download&uuid=40f0fbe4-1237-4973-8886-5cee800cb44a\n",
            "Resolving doc-0c-5k-docs.googleusercontent.com (doc-0c-5k-docs.googleusercontent.com)... 74.125.142.132, 2607:f8b0:400e:c08::84\n",
            "Connecting to doc-0c-5k-docs.googleusercontent.com (doc-0c-5k-docs.googleusercontent.com)|74.125.142.132|:443... connected.\n",
            "HTTP request sent, awaiting response... 200 OK\n",
            "Length: 33312136 (32M) [application/octet-stream]\n",
            "Saving to: ‘../data/input_file.parquet’\n",
            "\n",
            "../data/input_file. 100%[===================>]  31.77M  --.-KB/s    in 0.1s    \n",
            "\n",
            "2022-08-10 13:57:01 (225 MB/s) - ‘../data/input_file.parquet’ saved [33312136/33312136]\n",
            "\n"
          ]
        }
      ],
      "source": [
        "!wget --no-check-certificate 'https://docs.google.com/uc?export=download&id=1CqboAhfDqNraH-V0WW3D7DX5ctMc17tl' -O ../data/input_file.parquet"
      ]
    },
    {
      "cell_type": "markdown",
      "metadata": {
        "id": "sd-sBZzCHot9"
      },
      "source": [
        "# 3) set model parameters"
      ]
    },
    {
      "cell_type": "code",
      "execution_count": null,
      "metadata": {
        "id": "xvI88KsSHgmH"
      },
      "outputs": [],
      "source": [
        "# color cut\n",
        "ia_ur_cut = 0.94\n",
        "\n",
        "# read input table with shape model parameters\n",
        "with open('../data/ia_shape_parameters.csv') as fd:\n",
        "    ia_params = pd.read_csv(fd, header=0)\n",
        "    ia_params.loc[ia_params['gal_color']==2.0, 'gal_color'] = Galaxy.Color.BLUE.value\n",
        "    ia_params.loc[ia_params['gal_color']==0.0, 'gal_color'] = Galaxy.Color.RED.value\n",
        "    ia_params = ia_params.set_index(['gal_color', 'z', 'mag']).sort_index()[['q_mean', 'r_mean', 'sigma']]"
      ]
    },
    {
      "cell_type": "markdown",
      "source": [
        "### instantiate IA class"
      ],
      "metadata": {
        "id": "1M7dtnztB9gb"
      }
    },
    {
      "cell_type": "code",
      "source": [
        "ia = IntrinsicAlignment(ia_params)"
      ],
      "metadata": {
        "id": "DbMwVe6pB3Mn"
      },
      "execution_count": null,
      "outputs": []
    },
    {
      "cell_type": "markdown",
      "metadata": {
        "id": "ZOIYkyksHyIT"
      },
      "source": [
        "# 4) set up IA modeling pipeline"
      ]
    },
    {
      "cell_type": "code",
      "execution_count": null,
      "metadata": {
        "id": "BDvD_wHwHnx1"
      },
      "outputs": [],
      "source": [
        "def apply_ia(df_in, p_cb, p_sb, p_cr, p_sr, q_gal, s_gal, central_alignment):\n",
        "    \n",
        "    df = df_in.copy(deep=True)\n",
        "    \n",
        "    # assign random orientations to a,c,j for halos with zero component for all these vectors\n",
        "    a_zero = (df['ax_halo']==0) & (df['ay_halo']==0) & (df['az_halo']==0)\n",
        "    c_zero = (df['cx_halo']==0) & (df['cy_halo']==0) & (df['cz_halo']==0)\n",
        "    j_zero = (df['jx_halo']==0) & (df['jy_halo']==0) & (df['jz_halo']==0)\n",
        "\n",
        "    a_halo_rand = ia._random_vector(len(df.loc[a_zero|c_zero]))\n",
        "    c_halo_rand = ia._random_perpendicular(a_halo_rand)\n",
        "    j_halo_rand = ia._random_vector(len(df.loc[j_zero]))\n",
        "\n",
        "    df.loc[a_zero,['ax_halo','ay_halo','az_halo']] = a_halo_rand.astype('f4')\n",
        "    df.loc[a_zero,['cx_halo','cy_halo','cz_halo']] = c_halo_rand.astype('f4')\n",
        "    df.loc[j_zero,['jx_halo','jy_halo','jz_halo']] = j_halo_rand.astype('f4')\n",
        "\n",
        "    # use this color index for red blue definitions\n",
        "    ia_ur = df['cfht_u_abs_mag'] - df['subaru_r_abs_mag']\n",
        "\n",
        "    # define blue / red IDs\n",
        "    ia_color = np.where(\n",
        "        ia_ur < ia_ur_cut,\n",
        "        Galaxy.Color.BLUE.value,\n",
        "        Galaxy.Color.RED.value\n",
        "    ).astype('i1')\n",
        "\n",
        "    ### define satellite / central IDs\n",
        "    ia_kind = np.where(\n",
        "        cat.flag_central == 0,\n",
        "        Galaxy.Kind.CENTRAL.value,\n",
        "        Galaxy.Kind.SATELLITE.value\n",
        "    ).astype('i1')\n",
        "\n",
        "    #### make sure that vectors of major and minor axis and angular momentum are normalized\n",
        "    df['a_halo'] = ((df['ax_halo']**2 + df['ay_halo']**2 + df['az_halo']**2)**0.5).astype('f4')\n",
        "    df['c_halo'] = ((df['cx_halo']**2 + df['cy_halo']**2 + df['cz_halo']**2)**0.5).astype('f4')\n",
        "    df['j_halo'] = ((df['jx_halo']**2 + df['jy_halo']**2 + df['jz_halo']**2)**0.5).astype('f4')\n",
        "\n",
        "    df['ax_halo'] = (df['ax_halo'] / df['a_halo']).astype('f4')\n",
        "    df['ay_halo'] = (df['ay_halo'] / df['a_halo']).astype('f4')\n",
        "    df['az_halo'] = (df['az_halo'] / df['a_halo']).astype('f4')\n",
        "\n",
        "    df['cx_halo'] = (df['cx_halo'] / df['c_halo']).astype('f4')\n",
        "    df['cy_halo'] = (df['cy_halo'] / df['c_halo']).astype('f4')\n",
        "    df['cz_halo'] = (df['cz_halo'] / df['c_halo']).astype('f4')\n",
        "\n",
        "    df['jx_halo'] = (df['jx_halo'] / df['j_halo']).astype('f4')\n",
        "    df['jy_halo'] = (df['jy_halo'] / df['j_halo']).astype('f4')\n",
        "    df['jz_halo'] = (df['jz_halo'] / df['j_halo']).astype('f4')\n",
        "\n",
        "    ### ====== set axis ratios ======\n",
        "    # df['q_gal'], df['s_gal'] = ia.axis_ratio(ia_color, df['true_redshift_gal'].values, df['subaru_r_abs_mag'].values)\n",
        "    df['q_gal'], df['s_gal'] = q_gal, s_gal\n",
        "\n",
        "    df['q_gal'] = df['q_gal'].astype('f4')\n",
        "    df['s_gal'] = df['s_gal'].astype('f4')\n",
        "\n",
        "\n",
        "    ### ====== set orientations ======\n",
        "    vg = np.array([\n",
        "        df['x_gal'].values,\n",
        "        df['y_gal'].values,\n",
        "        df['z_gal'].values,\n",
        "    ]).T\n",
        "    vh = np.array([\n",
        "        df['x_halo'].values,\n",
        "        df['y_halo'].values,\n",
        "        df['z_halo'].values,\n",
        "    ]).T\n",
        "    Ah = np.array([\n",
        "        df['ax_halo'].values,\n",
        "        df['ay_halo'].values,\n",
        "        df['az_halo'].values,\n",
        "    ]).T\n",
        "    Ch = np.array([\n",
        "        df['cx_halo'].values,\n",
        "        df['cy_halo'].values,\n",
        "        df['cz_halo'].values,\n",
        "    ]).T\n",
        "    Jh = np.array([\n",
        "        df['jx_halo'].values,\n",
        "        df['jy_halo'].values,\n",
        "        df['jz_halo'].values,\n",
        "    ]).T\n",
        "\n",
        "    # set orientations for centrals and satellites\n",
        "    Ag, Cg = ia.orientations(ia_kind, ia_color, vg, vh, Ah, Ch, Jh)\n",
        "\n",
        "\n",
        "    # reset orientations for centrals for testing\n",
        "    central = (ia_kind == Galaxy.Kind.CENTRAL)\n",
        "    \n",
        "    # option 1: same major and minor axis as host halo\n",
        "    if central_alignment == 'PrincAx':\n",
        "      Ag[central] = Ah[central]\n",
        "      Cg[central] = Ch[central]\n",
        "\n",
        "    # option 2: minor axis aligned with angular momentum vector, major axis random\n",
        "    if central_alignment == 'AngMo':\n",
        "        Ag[central] = ia._random_perpendicular(Jh[central])\n",
        "        Cg[central] = Jh[central]\n",
        "\n",
        "\n",
        "    df['ax_gal'] = Ag[:, 0].astype('f4')\n",
        "    df['ay_gal'] = Ag[:, 1].astype('f4')\n",
        "    df['az_gal'] = Ag[:, 2].astype('f4')\n",
        "    df['cx_gal'] = Cg[:, 0].astype('f4')\n",
        "    df['cy_gal'] = Cg[:, 1].astype('f4')\n",
        "    df['cz_gal'] = Cg[:, 2].astype('f4')\n",
        "   \n",
        "\n",
        "    ### ====== randomize orientations ======\n",
        "    df['sigma'] = ia.misalignment_parameters_v0(\n",
        "        ia_kind, ia_color, df['subaru_r_abs_mag'].values.T, p_cr, p_cb, p_sr, p_sb\n",
        "    ).astype('f4')\n",
        "\n",
        "    Ar,Cr = ia.randomize(Ag, Cg, df['sigma'].values)\n",
        "\n",
        "    df['ax_gal_rand'] = Ar[:, 0].astype('f4')\n",
        "    df['ay_gal_rand'] = Ar[:, 1].astype('f4')\n",
        "    df['az_gal_rand'] = Ar[:, 2].astype('f4')\n",
        "    df['cx_gal_rand'] = Cr[:, 0].astype('f4')\n",
        "    df['cy_gal_rand'] = Cr[:, 1].astype('f4')\n",
        "    df['cz_gal_rand'] = Cr[:, 2].astype('f4')\n",
        "\n",
        "\n",
        "    ### ====== get ellipticity ======\n",
        "    vg = np.array([\n",
        "        df['x_gal'].values,\n",
        "        df['y_gal'].values,\n",
        "        df['z_gal'].values,\n",
        "    ]).T\n",
        "\n",
        "    Ag = np.array([\n",
        "        df['ax_gal_rand'].values,\n",
        "        df['ay_gal_rand'].values,\n",
        "        df['az_gal_rand'].values,\n",
        "    ]).T\n",
        "\n",
        "    Cg = np.array([\n",
        "        df['cx_gal_rand'].values,\n",
        "        df['cy_gal_rand'].values,\n",
        "        df['cz_gal_rand'].values,\n",
        "    ]).T\n",
        "\n",
        "    qg = df['q_gal'].values.T\n",
        "    sg = df['s_gal'].values.T\n",
        "\n",
        "    df['eps1_gal'], df['eps2_gal'] = ia.ellipticity(vg, qg, sg, Ag, Cg)\n",
        "    df['eps1_gal'] = df['eps1_gal'].astype('f4')\n",
        "    df['eps2_gal'] = df['eps2_gal'].astype('f4')\n",
        "\n",
        "    return df"
      ]
    },
    {
      "cell_type": "markdown",
      "metadata": {
        "id": "CoK65xuTH3HN"
      },
      "source": [
        "# 5) model evaluation"
      ]
    },
    {
      "cell_type": "markdown",
      "source": [
        "### read input catalogue"
      ],
      "metadata": {
        "id": "9JJSMO-NHJFw"
      }
    },
    {
      "cell_type": "code",
      "execution_count": null,
      "metadata": {
        "id": "PGl6gzoIH016",
        "colab": {
          "base_uri": "https://localhost:8080/",
          "height": 238
        },
        "outputId": "b486f733-003b-433a-d122-892411246712"
      },
      "outputs": [
        {
          "output_type": "error",
          "ename": "NameError",
          "evalue": "ignored",
          "traceback": [
            "\u001b[0;31m---------------------------------------------------------------------------\u001b[0m",
            "\u001b[0;31mNameError\u001b[0m                                 Traceback (most recent call last)",
            "\u001b[0;32m<ipython-input-1-691eb2d2cd0f>\u001b[0m in \u001b[0;36m<module>\u001b[0;34m\u001b[0m\n\u001b[0;32m----> 1\u001b[0;31m \u001b[0mcat\u001b[0m \u001b[0;34m=\u001b[0m \u001b[0mpd\u001b[0m\u001b[0;34m.\u001b[0m\u001b[0mread_parquet\u001b[0m\u001b[0;34m(\u001b[0m\u001b[0;34m'../data/input_file.parquet'\u001b[0m\u001b[0;34m)\u001b[0m\u001b[0;31m#.iloc[0:1000]\u001b[0m\u001b[0;34m\u001b[0m\u001b[0;34m\u001b[0m\u001b[0m\n\u001b[0m\u001b[1;32m      2\u001b[0m \u001b[0;34m\u001b[0m\u001b[0m\n\u001b[1;32m      3\u001b[0m \u001b[0;31m### get angular coordinates (using MICECAT2 definition of ra and dec)\u001b[0m\u001b[0;34m\u001b[0m\u001b[0;34m\u001b[0m\u001b[0;34m\u001b[0m\u001b[0m\n\u001b[1;32m      4\u001b[0m \u001b[0mcat\u001b[0m\u001b[0;34m[\u001b[0m\u001b[0;34m'r_gal'\u001b[0m\u001b[0;34m]\u001b[0m \u001b[0;34m=\u001b[0m \u001b[0;34m(\u001b[0m\u001b[0mcat\u001b[0m\u001b[0;34m.\u001b[0m\u001b[0mx_gal\u001b[0m\u001b[0;34m**\u001b[0m\u001b[0;36m2\u001b[0m \u001b[0;34m+\u001b[0m \u001b[0mcat\u001b[0m\u001b[0;34m.\u001b[0m\u001b[0my_gal\u001b[0m\u001b[0;34m**\u001b[0m\u001b[0;36m2\u001b[0m \u001b[0;34m+\u001b[0m \u001b[0mcat\u001b[0m\u001b[0;34m.\u001b[0m\u001b[0mz_gal\u001b[0m\u001b[0;34m**\u001b[0m\u001b[0;36m2\u001b[0m\u001b[0;34m)\u001b[0m\u001b[0;34m**\u001b[0m\u001b[0;36m0.5\u001b[0m\u001b[0;34m\u001b[0m\u001b[0;34m\u001b[0m\u001b[0m\n\u001b[1;32m      5\u001b[0m \u001b[0mcat\u001b[0m\u001b[0;34m[\u001b[0m\u001b[0;34m'ra_gal'\u001b[0m\u001b[0;34m]\u001b[0m \u001b[0;34m=\u001b[0m \u001b[0mnp\u001b[0m\u001b[0;34m.\u001b[0m\u001b[0marctan2\u001b[0m\u001b[0;34m(\u001b[0m\u001b[0mcat\u001b[0m\u001b[0;34m.\u001b[0m\u001b[0mx_gal\u001b[0m\u001b[0;34m,\u001b[0m\u001b[0mcat\u001b[0m\u001b[0;34m.\u001b[0m\u001b[0my_gal\u001b[0m\u001b[0;34m)\u001b[0m\u001b[0;34m*\u001b[0m\u001b[0;36m180\u001b[0m\u001b[0;34m/\u001b[0m\u001b[0mnp\u001b[0m\u001b[0;34m.\u001b[0m\u001b[0mpi\u001b[0m\u001b[0;34m\u001b[0m\u001b[0;34m\u001b[0m\u001b[0m\n",
            "\u001b[0;31mNameError\u001b[0m: name 'pd' is not defined"
          ]
        }
      ],
      "source": [
        "cat = pd.read_parquet('../data/input_file.parquet')#.iloc[0:1000]\n",
        "\n",
        "### get angular coordinates (using MICECAT2 definition of ra and dec)\n",
        "cat['r_gal'] = (cat.x_gal**2 + cat.y_gal**2 + cat.z_gal**2)**0.5\n",
        "cat['ra_gal'] = np.arctan2(cat.x_gal,cat.y_gal)*180/np.pi\n",
        "cat['dec_gal'] = np.arcsin(cat.z_gal/cat.r_gal)*180/np.pi\n",
        "\n",
        "print(len(cat))"
      ]
    },
    {
      "cell_type": "markdown",
      "source": [
        "### set values for galaxy 3D axis ratios"
      ],
      "metadata": {
        "id": "zwxWp3JPZYZs"
      }
    },
    {
      "cell_type": "code",
      "source": [
        "q_gal, s_gal = 1.0, 0.2"
      ],
      "metadata": {
        "id": "YvoLM0BxZXUY"
      },
      "execution_count": null,
      "outputs": []
    },
    {
      "cell_type": "markdown",
      "metadata": {
        "id": "dl16lKAo5f4p"
      },
      "source": [
        "### make catalogs with low misalgnment"
      ]
    },
    {
      "cell_type": "code",
      "execution_count": null,
      "metadata": {
        "id": "3lkbH_MBNRAx"
      },
      "outputs": [],
      "source": [
        "# blue centrals and satellites\n",
        "p_cb, p_sb = [0.1, 0.0],  [0.1, 0.0]\n",
        "# red centrals and satellites\n",
        "p_cr, p_sr = [0.1, 0.0], [0.1, 0.0]\n",
        "\n",
        "central_alignment = 'PrincAx'\n",
        "catA = apply_ia(cat, p_cb, p_sb, p_cr, p_sr, q_gal, s_gal, central_alignment)\n",
        "\n",
        "central_alignment = 'AngMo'\n",
        "catB = apply_ia(cat, p_cb, p_sb, p_cr, p_sr, q_gal, s_gal, central_alignment)"
      ]
    },
    {
      "cell_type": "markdown",
      "metadata": {
        "id": "QwCZPL515jHE"
      },
      "source": [
        "### make catalogs with high misalignment"
      ]
    },
    {
      "cell_type": "code",
      "execution_count": null,
      "metadata": {
        "id": "pXRUcZN58U1O"
      },
      "outputs": [],
      "source": [
        "# blue centrals and satellites\n",
        "p_cb, p_sb = [0.5, 0.0],  [0.5, 0.0]\n",
        "# red centrals and satellites\n",
        "p_cr, p_sr = [0.5, 0,0], [0.5, 0.0]\n",
        "\n",
        "central_alignment = 'PrincAx'\n",
        "catC = apply_ia(cat, p_cb, p_sb, p_cr, p_sr, q_gal, s_gal, central_alignment)\n",
        "\n",
        "central_alignment = 'AngMo'\n",
        "catD = apply_ia(cat, p_cb, p_sb, p_cr, p_sr, q_gal, s_gal, central_alignment)"
      ]
    },
    {
      "cell_type": "markdown",
      "source": [
        "# 6) compute 3D alignment statistics"
      ],
      "metadata": {
        "id": "N6seHQ3x568S"
      }
    },
    {
      "cell_type": "markdown",
      "source": [
        "### install covo"
      ],
      "metadata": {
        "id": "vBksEOax583n"
      }
    },
    {
      "cell_type": "code",
      "source": [
        "cd .."
      ],
      "metadata": {
        "colab": {
          "base_uri": "https://localhost:8080/"
        },
        "id": "ltxXJbXjC_V3",
        "outputId": "c10bada5-6e37-45eb-8d62-dc6295c3ab75"
      },
      "execution_count": null,
      "outputs": [
        {
          "output_type": "stream",
          "name": "stdout",
          "text": [
            "/content\n"
          ]
        }
      ]
    },
    {
      "cell_type": "code",
      "source": [
        "! git clone https://flediak@bitbucket.org/flediak/covo.git"
      ],
      "metadata": {
        "colab": {
          "base_uri": "https://localhost:8080/"
        },
        "id": "4YLwijah70Rv",
        "outputId": "eff016c1-2547-4286-804f-a3d0437aad2f"
      },
      "execution_count": null,
      "outputs": [
        {
          "output_type": "stream",
          "name": "stdout",
          "text": [
            "Cloning into 'covo'...\n",
            "Receiving objects: 100% (369/369), 13.85 MiB | 15.92 MiB/s, done.\n",
            "Resolving deltas: 100% (220/220), done.\n"
          ]
        }
      ]
    },
    {
      "cell_type": "code",
      "source": [
        "cd covo/src"
      ],
      "metadata": {
        "colab": {
          "base_uri": "https://localhost:8080/"
        },
        "id": "pTm1FnLeDUF8",
        "outputId": "429ccb56-f19e-4505-d607-0b6b35bc6387"
      },
      "execution_count": null,
      "outputs": [
        {
          "output_type": "stream",
          "name": "stdout",
          "text": [
            "/content/covo/src\n"
          ]
        }
      ]
    },
    {
      "cell_type": "code",
      "source": [
        "! make"
      ],
      "metadata": {
        "colab": {
          "base_uri": "https://localhost:8080/"
        },
        "id": "_qXNHpUH8E7Y",
        "outputId": "799d081c-02b3-422c-da2c-b85f2dd8b45b"
      },
      "execution_count": null,
      "outputs": [
        {
          "output_type": "stream",
          "name": "stdout",
          "text": [
            "g++ -c main.cpp -std=c++11 -O3\n",
            "g++ -c parameters.cpp -std=c++11 -O3\n",
            "g++ -c directory.cpp -std=c++11 -O3\n",
            "g++ -c healpix.cpp -std=c++11 -O3\n",
            "g++ -c catalogue.cpp -std=c++11 -O3\n",
            "g++ -c correlation.cpp -std=c++11 -O3\n",
            "g++ -o ../covo main.o parameters.o directory.o healpix.o catalogue.o  correlation.o\n"
          ]
        }
      ]
    },
    {
      "cell_type": "code",
      "source": [
        "cd .."
      ],
      "metadata": {
        "colab": {
          "base_uri": "https://localhost:8080/"
        },
        "id": "OSuQSdGc-H4g",
        "outputId": "b5aa32e1-4eb7-416f-e279-fcf221724598"
      },
      "execution_count": null,
      "outputs": [
        {
          "output_type": "stream",
          "name": "stdout",
          "text": [
            "/content/covo\n"
          ]
        }
      ]
    },
    {
      "cell_type": "code",
      "source": [
        "! mkdir results"
      ],
      "metadata": {
        "id": "YBeT_cgJ6-lt"
      },
      "execution_count": null,
      "outputs": []
    },
    {
      "cell_type": "markdown",
      "source": [
        "### run measurements"
      ],
      "metadata": {
        "id": "dH61yQ_86ebZ"
      }
    },
    {
      "cell_type": "code",
      "source": [
        "def get_3Dstats(df):\n",
        "    \n",
        "    # write input files\n",
        "    fname_cat_shape = 'catalogues/ia_cat_shape.csv'\n",
        "    fname_cat_dense = 'catalogues/ia_cat_dense.csv'\n",
        "\n",
        "    columns_shape = ['x_gal', 'y_gal', 'z_gal', 'ax_gal_rand', 'ay_gal_rand', 'az_gal_rand', 'cx_gal_rand', 'cy_gal_rand', 'cz_gal_rand']\n",
        "    columns_dense = ['x_gal', 'y_gal', 'z_gal']\n",
        "\n",
        "    df[columns_shape].to_csv(fname_cat_shape, index=None, header=None, compression=None, sep=\",\")\n",
        "    df[columns_dense].to_csv(fname_cat_dense, index=None, header=None, compression=None, sep=\",\")\n",
        "\n",
        "    # run covo\n",
        "    ! ./covo covo.params_lightcone catalogues/ia_cat_shape.csv catalogues/ia_cat_dense.csv results/eta.csv\n",
        "\n",
        "    # read results\n",
        "    eta = pd.read_csv('./results/eta.csv')\n",
        "\n",
        "    return eta"
      ],
      "metadata": {
        "id": "Ne-kv6mREAqE"
      },
      "execution_count": null,
      "outputs": []
    },
    {
      "cell_type": "code",
      "source": [
        "etaA = get_3Dstats(catA)\n",
        "etaB = get_3Dstats(catB)\n",
        "etaC = get_3Dstats(catC)\n",
        "etaD = get_3Dstats(catD)"
      ],
      "metadata": {
        "colab": {
          "base_uri": "https://localhost:8080/"
        },
        "id": "QIdqyx-Q6r_j",
        "outputId": "294a1102-c63c-4b89-ad4c-b95b2ad6596f"
      },
      "execution_count": null,
      "outputs": [
        {
          "output_type": "stream",
          "name": "stdout",
          "text": [
            "\n",
            "# ================ PARAMETERS ================\n",
            "# fname_cat_1: catalogues/ia_cat_shape.csv\n",
            "# fname_cat_2: catalogues/ia_cat_dense.csv\n",
            "# fname_out: input\n",
            "# delim_in: ,\n",
            "# delim_out: ,\n",
            "# header_out: 1\n",
            "\n",
            "# mode: shell\n",
            "# auto_limits: 1\n",
            "# nside: 8\n",
            "# nrad: 2\n",
            "\n",
            "# columns in input catalogue: \n",
            "# - position vector: 0 1 2 \n",
            "# - vector a: 3 4 5 \n",
            "# - vector b: 6 7 8 \n",
            "\n",
            "# r_min = 0.1\n",
            "# r_max = 40\n",
            "# numb_bin = 20\n",
            "# lg_bins = 1\n",
            "\n",
            "# expip = 1\n",
            "\n",
            "# r12_v1a = 1\n",
            "# r12_v1b = 1\n",
            "# r12_v2a = 0\n",
            "# r12_v2b = 0\n",
            "# v1a_v2a = 0\n",
            "# v1b_v2b = 0\n",
            "# v1a_v2b = 0\n",
            "# v1b_v2a = 0\n",
            "\n",
            "# make_rand = 0\n",
            "# ============================================\n",
            "\n",
            "\n",
            "# ==== read data ====\n",
            "# size of catalogue 1: 229131\n",
            "\n",
            "# size of catalogue 2: 229131\n",
            "\n",
            "# min. / max. coordinates in catalogue 1\n",
            "# 215.658 < r < 575.975\n",
            "# 0.0802959 < theta < 90\n",
            "# 0.00128311 < phi < 89.9944\n",
            "\n",
            "# min. / max. coordinates in catalogue 2\n",
            "# 215.658 < r < 575.975\n",
            "# 0.0802959 < theta < 90\n",
            "# 0.00128311 < phi < 89.9944\n",
            "\n",
            "# cut out overlap region between cat 1 and cat 2\n",
            "\n",
            "# make subsamples\n",
            "# number of subsamples: 174\n",
            "# total number of objects in sub samples \n",
            "# cat1: 208315, cat2: 208315\n",
            "# mean number of objects per sub sample \n",
            "# cat1: 1197.21, cat2: 1197.21\n",
            "\n",
            "\n",
            "# ==== compute correlation ==== \n",
            "# remaining cells: \n",
            "# 173; 172; 171; 170; 169; 168; 167; 166; 165; 164; 163; 162; 161; 160; 159; 158; 157; 156; 155; 154; \n",
            "# 153; 152; 151; 150; 149; 148; 147; 146; 145; 144; 143; 142; 141; 140; 139; 138; 137; 136; 135; 134; \n",
            "# 133; 132; 131; 130; 129; 128; 127; 126; 125; 124; 123; 122; 121; 120; 119; 118; 117; 116; 115; 114; \n",
            "# 113; 112; 111; 110; 109; 108; 107; 106; 105; 104; 103; 102; 101; 100; 99; 98; 97; 96; 95; 94; \n",
            "# 93; 92; 91; 90; 89; 88; 87; 86; 85; 84; 83; 82; 81; 80; 79; 78; 77; 76; 75; 74; \n",
            "# 73; 72; 71; 70; 69; 68; 67; 66; 65; 64; 63; 62; 61; 60; 59; 58; 57; 56; 55; 54; \n",
            "# 53; 52; 51; 50; 49; 48; 47; 46; 45; 44; 43; 42; 41; 40; 39; 38; 37; 36; 35; 34; \n",
            "# 33; 32; 31; 30; 29; 28; 27; 26; 25; 24; 23; 22; 21; 20; 19; 18; 17; 16; 15; 14; \n",
            "# 13; 12; 11; 10; 9; 8; 7; 6; 5; 4; 3; 2; 1; \n",
            "# 33 seconds for computing correlation\n",
            "# write: results/eta.csv\n",
            "\n",
            "# ================ PARAMETERS ================\n",
            "# fname_cat_1: catalogues/ia_cat_shape.csv\n",
            "# fname_cat_2: catalogues/ia_cat_dense.csv\n",
            "# fname_out: input\n",
            "# delim_in: ,\n",
            "# delim_out: ,\n",
            "# header_out: 1\n",
            "\n",
            "# mode: shell\n",
            "# auto_limits: 1\n",
            "# nside: 8\n",
            "# nrad: 2\n",
            "\n",
            "# columns in input catalogue: \n",
            "# - position vector: 0 1 2 \n",
            "# - vector a: 3 4 5 \n",
            "# - vector b: 6 7 8 \n",
            "\n",
            "# r_min = 0.1\n",
            "# r_max = 40\n",
            "# numb_bin = 20\n",
            "# lg_bins = 1\n",
            "\n",
            "# expip = 1\n",
            "\n",
            "# r12_v1a = 1\n",
            "# r12_v1b = 1\n",
            "# r12_v2a = 0\n",
            "# r12_v2b = 0\n",
            "# v1a_v2a = 0\n",
            "# v1b_v2b = 0\n",
            "# v1a_v2b = 0\n",
            "# v1b_v2a = 0\n",
            "\n",
            "# make_rand = 0\n",
            "# ============================================\n",
            "\n",
            "\n",
            "# ==== read data ====\n",
            "# size of catalogue 1: 229131\n",
            "\n",
            "# size of catalogue 2: 229131\n",
            "\n",
            "# min. / max. coordinates in catalogue 1\n",
            "# 215.658 < r < 575.975\n",
            "# 0.0802959 < theta < 90\n",
            "# 0.00128311 < phi < 89.9944\n",
            "\n",
            "# min. / max. coordinates in catalogue 2\n",
            "# 215.658 < r < 575.975\n",
            "# 0.0802959 < theta < 90\n",
            "# 0.00128311 < phi < 89.9944\n",
            "\n",
            "# cut out overlap region between cat 1 and cat 2\n",
            "\n",
            "# make subsamples\n",
            "# number of subsamples: 174\n",
            "# total number of objects in sub samples \n",
            "# cat1: 208315, cat2: 208315\n",
            "# mean number of objects per sub sample \n",
            "# cat1: 1197.21, cat2: 1197.21\n",
            "\n",
            "\n",
            "# ==== compute correlation ==== \n",
            "# remaining cells: \n",
            "# 173; 172; 171; 170; 169; 168; 167; 166; 165; 164; 163; 162; 161; 160; 159; 158; 157; 156; 155; 154; \n",
            "# 153; 152; 151; 150; 149; 148; 147; 146; 145; 144; 143; 142; 141; 140; 139; 138; 137; 136; 135; 134; \n",
            "# 133; 132; 131; 130; 129; 128; 127; 126; 125; 124; 123; 122; 121; 120; 119; 118; 117; 116; 115; 114; \n",
            "# 113; 112; 111; 110; 109; 108; 107; 106; 105; 104; 103; 102; 101; 100; 99; 98; 97; 96; 95; 94; \n",
            "# 93; 92; 91; 90; 89; 88; 87; 86; 85; 84; 83; 82; 81; 80; 79; 78; 77; 76; 75; 74; \n",
            "# 73; 72; 71; 70; 69; 68; 67; 66; 65; 64; 63; 62; 61; 60; 59; 58; 57; 56; 55; 54; \n",
            "# 53; 52; 51; 50; 49; 48; 47; 46; 45; 44; 43; 42; 41; 40; 39; 38; 37; 36; 35; 34; \n",
            "# 33; 32; 31; 30; 29; 28; 27; 26; 25; 24; 23; 22; 21; 20; 19; 18; 17; 16; 15; 14; \n",
            "# 13; 12; 11; 10; 9; 8; 7; 6; 5; 4; 3; 2; 1; \n",
            "# 36 seconds for computing correlation\n",
            "# write: results/eta.csv\n",
            "\n",
            "# ================ PARAMETERS ================\n",
            "# fname_cat_1: catalogues/ia_cat_shape.csv\n",
            "# fname_cat_2: catalogues/ia_cat_dense.csv\n",
            "# fname_out: input\n",
            "# delim_in: ,\n",
            "# delim_out: ,\n",
            "# header_out: 1\n",
            "\n",
            "# mode: shell\n",
            "# auto_limits: 1\n",
            "# nside: 8\n",
            "# nrad: 2\n",
            "\n",
            "# columns in input catalogue: \n",
            "# - position vector: 0 1 2 \n",
            "# - vector a: 3 4 5 \n",
            "# - vector b: 6 7 8 \n",
            "\n",
            "# r_min = 0.1\n",
            "# r_max = 40\n",
            "# numb_bin = 20\n",
            "# lg_bins = 1\n",
            "\n",
            "# expip = 1\n",
            "\n",
            "# r12_v1a = 1\n",
            "# r12_v1b = 1\n",
            "# r12_v2a = 0\n",
            "# r12_v2b = 0\n",
            "# v1a_v2a = 0\n",
            "# v1b_v2b = 0\n",
            "# v1a_v2b = 0\n",
            "# v1b_v2a = 0\n",
            "\n",
            "# make_rand = 0\n",
            "# ============================================\n",
            "\n",
            "\n",
            "# ==== read data ====\n",
            "# size of catalogue 1: 229131\n",
            "\n",
            "# size of catalogue 2: 229131\n",
            "\n",
            "# min. / max. coordinates in catalogue 1\n",
            "# 215.658 < r < 575.975\n",
            "# 0.0802959 < theta < 90\n",
            "# 0.00128311 < phi < 89.9944\n",
            "\n",
            "# min. / max. coordinates in catalogue 2\n",
            "# 215.658 < r < 575.975\n",
            "# 0.0802959 < theta < 90\n",
            "# 0.00128311 < phi < 89.9944\n",
            "\n",
            "# cut out overlap region between cat 1 and cat 2\n",
            "\n",
            "# make subsamples\n",
            "# number of subsamples: 174\n",
            "# total number of objects in sub samples \n",
            "# cat1: 208315, cat2: 208315\n",
            "# mean number of objects per sub sample \n",
            "# cat1: 1197.21, cat2: 1197.21\n",
            "\n",
            "\n",
            "# ==== compute correlation ==== \n",
            "# remaining cells: \n",
            "# 173; 172; 171; 170; 169; 168; 167; 166; 165; 164; 163; 162; 161; 160; 159; 158; 157; 156; 155; 154; \n",
            "# 153; 152; 151; 150; 149; 148; 147; 146; 145; 144; 143; 142; 141; 140; 139; 138; 137; 136; 135; 134; \n",
            "# 133; 132; 131; 130; 129; 128; 127; 126; 125; 124; 123; 122; 121; 120; 119; 118; 117; 116; 115; 114; \n",
            "# 113; 112; 111; 110; 109; 108; 107; 106; 105; 104; 103; 102; 101; 100; 99; 98; 97; 96; 95; 94; \n",
            "# 93; 92; 91; 90; 89; 88; 87; 86; 85; 84; 83; 82; 81; 80; 79; 78; 77; 76; 75; 74; \n",
            "# 73; 72; 71; 70; 69; 68; 67; 66; 65; 64; 63; 62; 61; 60; 59; 58; 57; 56; 55; 54; \n",
            "# 53; 52; 51; 50; 49; 48; 47; 46; 45; 44; 43; 42; 41; 40; 39; 38; 37; 36; 35; 34; \n",
            "# 33; 32; 31; 30; 29; 28; 27; 26; 25; 24; 23; 22; 21; 20; 19; 18; 17; 16; 15; 14; \n",
            "# 13; 12; 11; 10; 9; 8; 7; 6; 5; 4; 3; 2; 1; \n",
            "# 33 seconds for computing correlation\n",
            "# write: results/eta.csv\n",
            "\n",
            "# ================ PARAMETERS ================\n",
            "# fname_cat_1: catalogues/ia_cat_shape.csv\n",
            "# fname_cat_2: catalogues/ia_cat_dense.csv\n",
            "# fname_out: input\n",
            "# delim_in: ,\n",
            "# delim_out: ,\n",
            "# header_out: 1\n",
            "\n",
            "# mode: shell\n",
            "# auto_limits: 1\n",
            "# nside: 8\n",
            "# nrad: 2\n",
            "\n",
            "# columns in input catalogue: \n",
            "# - position vector: 0 1 2 \n",
            "# - vector a: 3 4 5 \n",
            "# - vector b: 6 7 8 \n",
            "\n",
            "# r_min = 0.1\n",
            "# r_max = 40\n",
            "# numb_bin = 20\n",
            "# lg_bins = 1\n",
            "\n",
            "# expip = 1\n",
            "\n",
            "# r12_v1a = 1\n",
            "# r12_v1b = 1\n",
            "# r12_v2a = 0\n",
            "# r12_v2b = 0\n",
            "# v1a_v2a = 0\n",
            "# v1b_v2b = 0\n",
            "# v1a_v2b = 0\n",
            "# v1b_v2a = 0\n",
            "\n",
            "# make_rand = 0\n",
            "# ============================================\n",
            "\n",
            "\n",
            "# ==== read data ====\n",
            "# size of catalogue 1: 229131\n",
            "\n",
            "# size of catalogue 2: 229131\n",
            "\n",
            "# min. / max. coordinates in catalogue 1\n",
            "# 215.658 < r < 575.975\n",
            "# 0.0802959 < theta < 90\n",
            "# 0.00128311 < phi < 89.9944\n",
            "\n",
            "# min. / max. coordinates in catalogue 2\n",
            "# 215.658 < r < 575.975\n",
            "# 0.0802959 < theta < 90\n",
            "# 0.00128311 < phi < 89.9944\n",
            "\n",
            "# cut out overlap region between cat 1 and cat 2\n",
            "\n",
            "# make subsamples\n",
            "# number of subsamples: 174\n",
            "# total number of objects in sub samples \n",
            "# cat1: 208315, cat2: 208315\n",
            "# mean number of objects per sub sample \n",
            "# cat1: 1197.21, cat2: 1197.21\n",
            "\n",
            "\n",
            "# ==== compute correlation ==== \n",
            "# remaining cells: \n",
            "# 173; 172; 171; 170; 169; 168; 167; 166; 165; 164; 163; 162; 161; 160; 159; 158; 157; 156; 155; 154; \n",
            "# 153; 152; 151; 150; 149; 148; 147; 146; 145; 144; 143; 142; 141; 140; 139; 138; 137; 136; 135; 134; \n",
            "# 133; 132; 131; 130; 129; 128; 127; 126; 125; 124; 123; 122; 121; 120; 119; 118; 117; 116; 115; 114; \n",
            "# 113; 112; 111; 110; 109; 108; 107; 106; 105; 104; 103; 102; 101; 100; 99; 98; 97; 96; 95; 94; \n",
            "# 93; 92; 91; 90; 89; 88; 87; 86; 85; 84; 83; 82; 81; 80; 79; 78; 77; 76; 75; 74; \n",
            "# 73; 72; 71; 70; 69; 68; 67; 66; 65; 64; 63; 62; 61; 60; 59; 58; 57; 56; 55; 54; \n",
            "# 53; 52; 51; 50; 49; 48; 47; 46; 45; 44; 43; 42; 41; 40; 39; 38; 37; 36; 35; 34; \n",
            "# 33; 32; 31; 30; 29; 28; 27; 26; 25; 24; 23; 22; 21; 20; 19; 18; 17; 16; 15; 14; \n",
            "# 13; 12; 11; 10; 9; 8; 7; 6; 5; 4; 3; 2; 1; \n",
            "# 33 seconds for computing correlation\n",
            "# write: results/eta.csv\n"
          ]
        }
      ]
    },
    {
      "cell_type": "markdown",
      "source": [
        "### plot results"
      ],
      "metadata": {
        "id": "yS1V6KWlZzjF"
      }
    },
    {
      "cell_type": "code",
      "source": [
        "fig, ax = plt.subplots(2,2,figsize=(8,8), sharex=True, sharey='row')\n",
        "\n",
        "fontsize = 14\n",
        "\n",
        "\n",
        "label1 = 'alignment with halo princ. ax.'\n",
        "label2 = 'alignment with halo ang. mom.'\n",
        "\n",
        "#==== low misalignment ======\n",
        "ix = 0\n",
        "ax[0,ix].set_title('low misalignment ($\\sigma=0.1$)', fontsize=fontsize)\n",
        "\n",
        "eta = etaA\n",
        "ax[0,ix].errorbar(eta.r, (eta.r12_v1a-0.5)*eta.r, eta.r12_v1a_std*eta.r, c='r', marker='o', ls='')\n",
        "ax[1,ix].errorbar(eta.r, (eta.r12_v1b-0.5)*eta.r, eta.r12_v1b_std*eta.r, c='r', marker='o', ls='')\n",
        "\n",
        "eta = etaB\n",
        "ax[0,ix].errorbar(eta.r, (eta.r12_v1a-0.5)*eta.r, eta.r12_v1a_std*eta.r, c='b', marker='o', ls='')\n",
        "ax[1,ix].errorbar(eta.r, (eta.r12_v1b-0.5)*eta.r, eta.r12_v1b_std*eta.r, c='b', marker='o', ls='')\n",
        "\n",
        "\n",
        "#==== high misalignment ======\n",
        "ix = 1\n",
        "ax[0,ix].set_title('high misalignment ($\\sigma=0.5$)', fontsize=fontsize)\n",
        "\n",
        "eta = etaC\n",
        "ax[0,ix].errorbar(eta.r, (eta.r12_v1a-0.5)*eta.r, eta.r12_v1a_std*eta.r, c='r', marker='o', ls='', label=label1)\n",
        "ax[1,ix].errorbar(eta.r, (eta.r12_v1b-0.5)*eta.r, eta.r12_v1b_std*eta.r, c='r', marker='o', ls='')\n",
        "\n",
        "eta = etaD\n",
        "ax[0,ix].errorbar(eta.r, (eta.r12_v1a-0.5)*eta.r, eta.r12_v1a_std*eta.r, c='b', marker='o', ls='', label=label2)\n",
        "ax[1,ix].errorbar(eta.r, (eta.r12_v1b-0.5)*eta.r, eta.r12_v1b_std*eta.r, c='b', marker='o', ls='')\n",
        "\n",
        "\n",
        "#==== cosmetics =====\n",
        "ax[0,1].legend(fontsize=10)\n",
        "\n",
        "for ix in range(2):\n",
        "  ax[-1,ix].set_xlabel('$r_{12} \\ [Mpc/h]$', fontsize = fontsize)\n",
        "\n",
        "ax[0,0].set_ylabel(r'($\\langle \\hat{A} \\cdot r_{12} \\rangle - 0.5) \\cdot r_{12} $',fontsize=fontsize)\n",
        "ax[1,0].set_ylabel(r'($\\langle \\hat{C} \\cdot  r_{12} \\rangle - 0.5) \\cdot r_{12} $ ',fontsize=fontsize)\n",
        "    \n",
        "for ix in range(2):\n",
        "    ax[0,ix].set_ylim(-0.1,0.3)\n",
        "    ax[1,ix].set_ylim(-0.3,0.1)\n",
        "\n",
        "for ix in range(2):\n",
        "    for iy in range(2):\n",
        "        ax[iy, ix].set_xscale('log')\n",
        "        ax[iy, ix].tick_params(axis='both',labelsize=fontsize)\n",
        "        ax[iy, ix].axhline(y=0.0, c='k', linestyle='--')"
      ],
      "metadata": {
        "colab": {
          "base_uri": "https://localhost:8080/",
          "height": 532
        },
        "id": "G7DDzf0IF0aA",
        "outputId": "cb8135aa-0037-44a1-8edb-9043b818ea40"
      },
      "execution_count": null,
      "outputs": [
        {
          "output_type": "display_data",
          "data": {
            "text/plain": [
              "<Figure size 576x576 with 4 Axes>"
            ],
            "image/png": "[encoded data removed]"
          },
          "metadata": {
            "needs_background": "light"
          }
        }
      ]
    },
    {
      "cell_type": "markdown",
      "metadata": {
        "id": "FzVk6mos8gqg"
      },
      "source": [
        "# 7) compute wg+"
      ]
    },
    {
      "cell_type": "markdown",
      "metadata": {
        "id": "NhfuW2ah8zFV"
      },
      "source": [
        "### make random catalogue"
      ]
    },
    {
      "cell_type": "code",
      "execution_count": null,
      "metadata": {
        "id": "YPLCnjq58wZL"
      },
      "outputs": [],
      "source": [
        "from scipy import interpolate"
      ]
    },
    {
      "cell_type": "code",
      "execution_count": null,
      "metadata": {
        "id": "2VoyuIFx87lG"
      },
      "outputs": [],
      "source": [
        "def make_random(r_gal, Nrand, L_tophat = 20):\n",
        "    \n",
        "    ##### random distances #####\n",
        "    \n",
        "    # galaxy counts in radial bins\n",
        "    counts, bin_edges = np.histogram(r_gal, bins=1000)\n",
        "    bin_centers = (bin_edges[1:] + bin_edges[:-1])*0.5\n",
        "    bin_width = bin_edges[1]-bin_edges[0]\n",
        "\n",
        "    if L_tophat< bin_width:\n",
        "        print('error: tophat filter must be larger than', bin_width)\n",
        "        return 1\n",
        "    \n",
        "    # define tophat filter for smoothing nofr\n",
        "    nbins_tophat = int(L_tophat/bin_width)\n",
        "    tophat_filter = np.ones(nbins_tophat)\n",
        "\n",
        "    counts_snooth = np.convolve(counts, tophat_filter, mode='same')/(nbins_tophat)\n",
        "\n",
        "    #cut edges of distribution by size of tophat filter to avoid boundary effects\n",
        "    counts_snooth = counts_snooth[nbins_tophat:-nbins_tophat]\n",
        "    bin_centers_smooth = bin_centers[nbins_tophat:-nbins_tophat]\n",
        "    \n",
        "    # random distances from inverse transform sampling\n",
        "    cdf = np.cumsum(counts_snooth)\n",
        "    cdf = cdf/cdf.max()\n",
        "    inv_cdf = interpolate.interp1d(cdf,bin_centers_smooth)\n",
        "\n",
        "    rnd = np.random.rand(Nrand)*(cdf.max()-cdf.min())+cdf.min()\n",
        "    r_rand = inv_cdf(rnd)\n",
        "    \n",
        "    \n",
        "    ##### random angles #####\n",
        "    # in MICE coordinates: ra = atan(x/y), dec = asin(z/r)\n",
        "    \n",
        "    f = np.pi/180.\n",
        "    ra_min, ra_max = 0,90\n",
        "    dec_min, dec_max = 0,90\n",
        "\n",
        "    ra_rand = np.random.uniform(ra_min, ra_max, Nrand)\n",
        "    cos_dec = np.random.uniform(np.cos(dec_min*f), np.cos(dec_max*f),Nrand)\n",
        "    dec_rand = 90-np.arccos(cos_dec)/f\n",
        "    \n",
        "    \n",
        "    return r_rand, ra_rand, dec_rand\n",
        "    "
      ]
    },
    {
      "cell_type": "code",
      "execution_count": null,
      "metadata": {
        "id": "rwJ9rubA9QgW"
      },
      "outputs": [],
      "source": [
        "L_tophat = 20# size of tophat filter for nofr in same units as simulation coordinates\n",
        "Nrand = len(cat)*2 # number of points in random catalog\n",
        "\n",
        "r_gal = (cat.x_gal**2 + cat.y_gal**2 + cat.z_gal**2)**0.5\n",
        "\n",
        "r_rand, ra_rand, dec_rand = make_random(r_gal, Nrand, L_tophat)\n",
        "\n",
        "# put random catalogue in pandas datafrane\n",
        "cat_random = pd.DataFrame(data=np.array([r_rand, ra_rand, dec_rand]).T, columns=['ra_gal','dec_gal','r_gal'])"
      ]
    },
    {
      "cell_type": "code",
      "execution_count": null,
      "metadata": {
        "colab": {
          "base_uri": "https://localhost:8080/",
          "height": 416
        },
        "id": "u5NHo_hP9sRN",
        "outputId": "ee528547-5dbc-4a7d-b1f9-8ecb73980a16"
      },
      "outputs": [
        {
          "data": {
            "image/png": "[encoded data removed]",
            "text/plain": [
              "<Figure size 1296x432 with 3 Axes>"
            ]
          },
          "metadata": {},
          "output_type": "display_data"
        }
      ],
      "source": [
        "fig, ax = plt.subplots(1,3, figsize=(18,6))\n",
        "\n",
        "f = np.pi/180.\n",
        "    \n",
        "fontsize=18\n",
        "    \n",
        "#======== ra, dec distibution ========\n",
        "dec = np.arcsin(cat.z_gal/r_gal)/f\n",
        "ra = np.arctan(cat.x_gal/cat.y_gal)/f\n",
        "ax[0].hist2d(ra, np.cos(np.pi/2 - dec*f), bins=100)\n",
        "ax[1].hist2d(ra_rand, np.cos(np.pi/2 - dec_rand*f), bins=100)\n",
        "#ax[0].hist2d(ra, dec*f, bins=100)\n",
        "#ax[1].hist2d(ra_rand, dec_rand, bins=100)\n",
        "\n",
        "ax[0].set_title('MICE', fontsize=fontsize)\n",
        "ax[1].set_title('random', fontsize=fontsize)\n",
        "\n",
        "for ix in range(2):\n",
        "    ax[ix].set_xlabel('ra', fontsize=fontsize)\n",
        "    ax[ix].set_ylabel('cos(pi/2 - dec)',fontsize=fontsize)    \n",
        "    #ax[ix].set_ylabel('dec',fontsize=fontsize)\n",
        "\n",
        "#======= radial distribution =======\n",
        "rbins = np.linspace(r_rand.min(), r_rand.max(), 100)\n",
        "ax[2].hist(r_gal, bins=rbins, density=True, color='b', label='MICE')\n",
        "ax[2].hist(r_rand, bins=rbins, density=True, color='r', alpha=0.5, label='random')\n",
        "ax[2].set_xlabel('r_gal', fontsize=fontsize)\n",
        "ax[2].set_ylabel('P', fontsize=fontsize)\n",
        "ax[2].legend(fontsize=fontsize)\n",
        "\n",
        "plt.show()"
      ]
    },
    {
      "cell_type": "code",
      "execution_count": null,
      "metadata": {
        "id": "qQJdP2K7-8ru"
      },
      "outputs": [],
      "source": [
        "# randial range of random catalogue is reduced by size of smoothing window\n",
        "# -> cut radial range of galaxy catalogue to the range covered by the random\n",
        "\n",
        "catA = catA.loc[(r_rand.min() <=r_gal) &  (r_gal <= r_rand.max())]\n",
        "catB = catB.loc[(r_rand.min() <=r_gal) &  (r_gal <= r_rand.max())]\n",
        "catC = catC.loc[(r_rand.min() <=r_gal) &  (r_gal <= r_rand.max())]\n",
        "catD = catD.loc[(r_rand.min() <=r_gal) &  (r_gal <= r_rand.max())]"
      ]
    },
    {
      "cell_type": "markdown",
      "metadata": {
        "id": "W73eWo2a9SM4"
      },
      "source": [
        "### call treecorr"
      ]
    },
    {
      "cell_type": "code",
      "execution_count": null,
      "metadata": {
        "colab": {
          "base_uri": "https://localhost:8080/"
        },
        "id": "r0_OHTWy5Y9J",
        "outputId": "868595f6-652a-4e46-f6e2-69224fdfad30"
      },
      "outputs": [
        {
          "name": "stdout",
          "output_type": "stream",
          "text": [
            "Looking in indexes: https://pypi.org/simple, https://us-python.pkg.dev/colab-wheels/public/simple/\n",
            "Collecting treecorr\n",
            "  Downloading TreeCorr-4.2.9-cp37-cp37m-manylinux2010_x86_64.whl (8.8 MB)\n",
            "\u001b[K     |████████████████████████████████| 8.8 MB 7.4 MB/s \n",
            "\u001b[?25hRequirement already satisfied: pyyaml in /usr/local/lib/python3.7/dist-packages (from treecorr) (3.13)\n",
            "Requirement already satisfied: numpy in /usr/local/lib/python3.7/dist-packages (from treecorr) (1.21.6)\n",
            "Requirement already satisfied: cffi in /usr/local/lib/python3.7/dist-packages (from treecorr) (1.15.1)\n",
            "Collecting LSSTDESC.Coord>=1.1\n",
            "  Downloading LSSTDESC.Coord-1.2.3-cp37-cp37m-manylinux2010_x86_64.whl (32 kB)\n",
            "Requirement already satisfied: future in /usr/local/lib/python3.7/dist-packages (from LSSTDESC.Coord>=1.1->treecorr) (0.16.0)\n",
            "Requirement already satisfied: pycparser in /usr/local/lib/python3.7/dist-packages (from cffi->treecorr) (2.21)\n",
            "Installing collected packages: LSSTDESC.Coord, treecorr\n",
            "Successfully installed LSSTDESC.Coord-1.2.3 treecorr-4.2.9\n"
          ]
        }
      ],
      "source": [
        "!pip install treecorr\n",
        "import treecorr"
      ]
    },
    {
      "cell_type": "code",
      "execution_count": null,
      "metadata": {
        "id": "NfEun4T39Va9"
      },
      "outputs": [],
      "source": [
        "def compute_xi_gp_2d(cat_rcut, randoms, npi, nbins, slop):\n",
        "    \n",
        "  # arrays to store the output\n",
        "  r     = np.zeros((npi,nbins))\n",
        "  SpD_xi   = np.zeros_like(r)\n",
        "  SpR_xi   = np.zeros_like(r)\n",
        "  RR_pairs   = np.zeros_like(r)  \n",
        "\n",
        "  positionsdata = cat_rcut\n",
        "  shapesdata = cat_rcut\n",
        "  positionsrand = randoms\n",
        "  shapesrand = randoms\n",
        "    \n",
        "  # catalogues\n",
        "  pcat  = treecorr.Catalog(g1=None, g2=None, ra=positionsdata['ra_gal'], dec=positionsdata['dec_gal'], r=positionsdata['r_gal'], ra_units='deg', dec_units='deg')\n",
        "  scat  = treecorr.Catalog(g1=-shapesdata['eps1_gal'], g2=-shapesdata['eps2_gal'], ra=shapesdata['ra_gal'], dec=shapesdata['dec_gal'], r=shapesdata['r_gal'], ra_units='deg', dec_units='deg')\n",
        "  rpcat = treecorr.Catalog(g1=None, g2=None, ra=positionsrand['ra_gal'], dec=positionsrand['dec_gal'], r=positionsrand['r_gal'], ra_units='deg', dec_units='deg')\n",
        "  rscat = treecorr.Catalog(g1=None, g2=None, ra=shapesrand['ra_gal'], dec=shapesrand['dec_gal'], r=shapesrand['r_gal'], ra_units='deg', dec_units='deg')\n",
        "    \n",
        "  # get pair-normalisation factors = total sum of (non-duplicate) weighted pairs with unlimited separation\n",
        "  NGtot = 1.*pcat.sumw*scat.sumw\n",
        "  RRtot = 1.*rpcat.sumw*rscat.sumw\n",
        "  RGtot = 1.*rpcat.sumw*scat.sumw\n",
        "    \n",
        "  f0 = RRtot / NGtot\n",
        "  f1 = RRtot / RGtot\n",
        "\n",
        "  Pi = np.array([-233,-144,-89,-55,-34,-21,-13,-8,-5,-3,-2,-1,0,1,2,3,5,8,13,21,34,55,89,144,233])\n",
        "    \n",
        "  pibins = zip(Pi[:-1],Pi[1:])\n",
        "    \n",
        "  # now loop over Pi bins, and compute w(r_p | Pi)\n",
        "  for p,(plow,phigh) in enumerate(pibins):    \n",
        "    rr = treecorr.NNCorrelation(nbins=5, min_sep=0.1, max_sep=18, min_rpar=plow, max_rpar=phigh, bin_slop=slop, verbose=0)\n",
        "    ng = treecorr.NGCorrelation(nbins=5, min_sep=0.1, max_sep=18, min_rpar=plow, max_rpar=phigh, bin_slop=slop, brute = False, verbose=0)\n",
        "    rg = treecorr.NGCorrelation(nbins=5, min_sep=0.1, max_sep=18, min_rpar=plow, max_rpar=phigh, bin_slop=slop, brute = False, verbose=0)                 \n",
        "        \n",
        "    ng.process_cross(pcat, scat, metric='Rperp') #It processes a galaxy-intrinsic shear correlation between the shapes and the position catalogs      \n",
        "    SpD_xi[p,:] = np.copy(ng.xi)\n",
        "    ng.clear()\n",
        "        \n",
        "    rg.process_cross(rpcat, scat, metric='Rperp') #It processes a galaxy-intrinsic shear correlation between a random catalog and the shapes catalogs\n",
        "    SpR_xi[p,:] = np.copy(rg.xi)\n",
        "    rg.clear()   \n",
        "\n",
        "    rr.process_cross(rpcat, rscat, metric='Rperp')\n",
        "    r[p,:] = np.copy(rr.rnom)\n",
        "    RR_pairs[p,:] = rr.weight\n",
        "    rr.clear()\n",
        "        \n",
        "  xi_gp = ((f0*SpD_xi) - (f1*SpR_xi)) / RR_pairs #It computes xi_gp using the normalisation factors \n",
        "  xi_gp[np.isinf(xi_gp)] = 0. #It sets to 0 the values of xi_gp that are infinite\n",
        "  xi_gp[np.isnan(xi_gp)] = 0. #It sets to 0 the values of xi_gp that are null    \n",
        "\n",
        "  xPi=(Pi[:-1]+Pi[1:])/2 #It returns an array going from -9.5,-8.5,...,8.5,9.5\n",
        "\n",
        "  return r, xPi, xi_gp"
      ]
    },
    {
      "cell_type": "code",
      "execution_count": null,
      "metadata": {
        "colab": {
          "background_save": true
        },
        "id": "_NYvTvIP9gX1",
        "outputId": "d8370d0e-4829-47aa-c62a-2d980265a73a"
      },
      "outputs": [
        {
          "name": "stderr",
          "output_type": "stream",
          "text": [
            "/usr/local/lib/python3.7/dist-packages/ipykernel_launcher.py:51: RuntimeWarning: divide by zero encountered in true_divide\n"
          ]
        }
      ],
      "source": [
        "r, Pi, xi_gp = compute_xi_gp_2d(catA, cat_random, npi=24, nbins=5, slop=0.)\n",
        "wgp_catA = np.trapz(xi_gp,Pi,axis=0) #It integrates xi_gp using the trapezoidal rule using xPi (Pi) as dx"
      ]
    },
    {
      "cell_type": "code",
      "execution_count": null,
      "metadata": {
        "colab": {
          "background_save": true
        },
        "id": "Xb-o55cvDYYs",
        "outputId": "b91432fe-8d0c-4b1d-9383-0488a328d38e"
      },
      "outputs": [
        {
          "data": {
            "text/plain": [
              "array([ 1.16495046e-01,  7.77839346e-02, -2.42011795e-01, -1.03618270e+05,\n",
              "       -3.30170408e+04])"
            ]
          },
          "execution_count": 21,
          "metadata": {},
          "output_type": "execute_result"
        }
      ],
      "source": [
        "wgp_catA"
      ]
    },
    {
      "cell_type": "code",
      "execution_count": null,
      "metadata": {
        "colab": {
          "background_save": true
        },
        "id": "g5UgcgMdGh8Q"
      },
      "outputs": [],
      "source": []
    },
    {
      "cell_type": "code",
      "execution_count": null,
      "metadata": {
        "colab": {
          "background_save": true
        },
        "id": "456Nr_br_MbA",
        "outputId": "aff87b1f-bc76-4622-f854-426b86a4b21b"
      },
      "outputs": [
        {
          "data": {
            "text/plain": [
              "<matplotlib.collections.PathCollection at 0x7f3407d39690>"
            ]
          },
          "execution_count": 22,
          "metadata": {},
          "output_type": "execute_result"
        },
        {
          "data": {
            "image/png": "[encoded data removed]",
            "text/plain": [
              "<Figure size 720x720 with 1 Axes>"
            ]
          },
          "metadata": {},
          "output_type": "display_data"
        }
      ],
      "source": [
        "fig, ax = plt.subplots(1, 1, figsize=(10,10))\n",
        "\n",
        "ax.scatter(r[0], wgp_catA, label=r'$w_{gg}$')\n",
        "#ax2.plot(r[0], (r[0]**0.8)*wgp, markersize = 4, label=r'$w_{gp}$')\n",
        "#ax.set_xscale('log')\n",
        "#ax.set_yscale('log')\n",
        "#ax1.legend(loc='lower left')\n",
        "#ax1.set_xlabel('$r_p$ [$h^{-1}$ Mpc]')\n",
        "#ax1.set_ylabel(r'$ w_{gg}$ [$h^{-1}$ Mpc]')\n",
        "#ax1.set_title('Clustering')\n",
        "#ax2.set_xscale('log')\n",
        "#ax2.legend(loc='lower left')\n",
        "#ax2.set_xlabel('$r_p$ [$h^{-1}$ Mpc]')\n",
        "#ax2.set_ylabel(r'$r_p^{0.8} w_{g+}$ [$h^{-1}$ Mpc]$^{1.8}$')\n",
        "#ax2.set_title('Alignments') "
      ]
    },
    {
      "cell_type": "markdown",
      "metadata": {
        "id": "VWyZP28Z8eOO"
      },
      "source": []
    }
  ],
  "metadata": {
    "colab": {
      "provenance": [],
      "authorship_tag": "ABX9TyOi8jNkFtR/Hn5NhDnUt5XD",
      "include_colab_link": true
    },
    "kernelspec": {
      "display_name": "Python 3",
      "name": "python3"
    },
    "language_info": {
      "name": "python"
    }
  },
  "nbformat": 4,
  "nbformat_minor": 0
}