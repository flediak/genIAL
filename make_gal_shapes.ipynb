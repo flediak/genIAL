{
  "nbformat": 4,
  "nbformat_minor": 0,
  "metadata": {
    "colab": {
      "provenance": [],
      "collapsed_sections": [],
      "authorship_tag": "ABX9TyMMtLggK5X0HIMmsbJGpRvF",
      "include_colab_link": true
    },
    "kernelspec": {
      "name": "python3",
      "display_name": "Python 3"
    },
    "language_info": {
      "name": "python"
    }
  },
  "cells": [
    {
      "cell_type": "markdown",
      "metadata": {
        "id": "view-in-github",
        "colab_type": "text"
      },
      "source": [
        "<a href=\"https://colab.research.google.com/github/flediak/genIAL/blob/main/make_gal_shapes.ipynb\" target=\"_parent\"><img src=\"https://colab.research.google.com/assets/colab-badge.svg\" alt=\"Open In Colab\"/></a>"
      ]
    },
    {
      "cell_type": "markdown",
      "source": [
        "# Intro\n",
        "\n",
        "This notebook shows how to model intrinsic galaxy shapes using genIAL, when information on host halo orientations is not avialable.\n",
        "Galaxy orientations are thereby set to random."
      ],
      "metadata": {
        "id": "NbMwsJfwJRLE"
      }
    },
    {
      "cell_type": "markdown",
      "source": [
        "# clone genIAL repository and import libraries"
      ],
      "metadata": {
        "id": "yBN1VUhKJYp9"
      }
    },
    {
      "cell_type": "code",
      "source": [
        "! git clone https://github.com/flediak/genIAL.git"
      ],
      "metadata": {
        "colab": {
          "base_uri": "https://localhost:8080/"
        },
        "id": "mwnHUV4AJXjx",
        "outputId": "4d81d2b8-2779-4454-9384-1d103e812498"
      },
      "execution_count": null,
      "outputs": [
        {
          "output_type": "stream",
          "name": "stdout",
          "text": [
            "fatal: destination path 'genIAL' already exists and is not an empty directory.\n"
          ]
        }
      ]
    },
    {
      "cell_type": "code",
      "source": [
        "cd genIAL"
      ],
      "metadata": {
        "colab": {
          "base_uri": "https://localhost:8080/"
        },
        "id": "rhSYhLOIJuex",
        "outputId": "536389b6-9275-4e1a-c84e-8f25739be134"
      },
      "execution_count": null,
      "outputs": [
        {
          "output_type": "stream",
          "name": "stdout",
          "text": [
            "/content/genIAL\n"
          ]
        }
      ]
    },
    {
      "cell_type": "code",
      "source": [
        "import numpy as np\n",
        "import pandas as pd\n",
        "from matplotlib import pyplot as plt\n",
        "from genial import Galaxy, IntrinsicAlignment"
      ],
      "metadata": {
        "id": "jE5r2Me7Jg3G"
      },
      "execution_count": null,
      "outputs": []
    },
    {
      "cell_type": "markdown",
      "source": [
        "# download input galaxy catalogue"
      ],
      "metadata": {
        "id": "ere7_15FJ1R3"
      }
    },
    {
      "cell_type": "code",
      "source": [
        "!gdown 1CqboAhfDqNraH-V0WW3D7DX5ctMc17tl -O input_file.parquet\n",
        "\n",
        "#when not working on google colab use:\n",
        "#!wget --no-check-certificate 'https://docs.google.com/uc?export=download&id=1CqboAhfDqNraH-V0WW3D7DX5ctMc17tl' -O ../data/input_file.parquet"
      ],
      "metadata": {
        "colab": {
          "base_uri": "https://localhost:8080/"
        },
        "id": "Tt1V9rwVJn5g",
        "outputId": "cba9e996-01ec-4a60-ccc5-01d4e78ff3c1"
      },
      "execution_count": 22,
      "outputs": [
        {
          "output_type": "stream",
          "name": "stdout",
          "text": [
            "Downloading...\n",
            "From: https://drive.google.com/uc?id=1CqboAhfDqNraH-V0WW3D7DX5ctMc17tl\n",
            "To: /content/genIAL/genIAL/input_file.parquet\n",
            "100% 33.3M/33.3M [00:00<00:00, 196MB/s]\n"
          ]
        }
      ]
    },
    {
      "cell_type": "markdown",
      "source": [
        "# download shape parameter file"
      ],
      "metadata": {
        "id": "pVN6NhVXKES6"
      }
    },
    {
      "cell_type": "code",
      "source": [
        "!gdown 1F6-XasMtdVk6BuR5TN8GnMc-AiUgu3Mf -O ia_shape_parameters.csv\n",
        "\n",
        "#when not working on google colab use:\n",
        "#!wget --no-check-certificate 'https://docs.google.com/uc?export=download&id=1F6-XasMtdVk6BuR5TN8GnMc-AiUgu3Mf' -O ia_shape_parameters.csv"
      ],
      "metadata": {
        "colab": {
          "base_uri": "https://localhost:8080/"
        },
        "id": "oEpabZgiJ8Ct",
        "outputId": "79fc78f3-01ea-49e9-bfa0-df44228d1b71"
      },
      "execution_count": 17,
      "outputs": [
        {
          "output_type": "stream",
          "name": "stdout",
          "text": [
            "Downloading...\n",
            "From: https://drive.google.com/uc?id=1F6-XasMtdVk6BuR5TN8GnMc-AiUgu3Mf\n",
            "To: /content/genIAL/genIAL/ia_shape_parameters.csv\n",
            "\r  0% 0.00/2.00M [00:00<?, ?B/s]\r100% 2.00M/2.00M [00:00<00:00, 173MB/s]\n"
          ]
        }
      ]
    },
    {
      "cell_type": "markdown",
      "source": [
        "# set up shape model parameters"
      ],
      "metadata": {
        "id": "GlHbOgwxKUWM"
      }
    },
    {
      "cell_type": "code",
      "source": [
        "# Hoffman et al. 2022 color cut for MICECAT2\n",
        "ia_ur_cut = 0.94\n",
        "\n",
        "# read input table with shape model parameters\n",
        "with open('ia_shape_parameters.csv') as fd:\n",
        "    ia_params = pd.read_csv(fd, header=0)\n",
        "    ia_params.loc[ia_params['gal_color']==2.0, 'gal_color'] = Galaxy.Color.BLUE.value\n",
        "    ia_params.loc[ia_params['gal_color']==0.0, 'gal_color'] = Galaxy.Color.RED.value\n",
        "    ia_params = ia_params.set_index(['gal_color', 'z', 'mag']).sort_index()[['q_mean', 'r_mean', 'sigma']]"
      ],
      "metadata": {
        "id": "MUOCxXyFKGvr"
      },
      "execution_count": 18,
      "outputs": []
    },
    {
      "cell_type": "markdown",
      "source": [
        "# instantiate IA class"
      ],
      "metadata": {
        "id": "rNEtVQ5GKe3J"
      }
    },
    {
      "cell_type": "code",
      "source": [
        "ia = IntrinsicAlignment(ia_params)"
      ],
      "metadata": {
        "id": "etP76soAKZAv"
      },
      "execution_count": 19,
      "outputs": []
    },
    {
      "cell_type": "markdown",
      "source": [
        "# shape model pipeline"
      ],
      "metadata": {
        "id": "8R6smNPjKkMx"
      }
    },
    {
      "cell_type": "code",
      "source": [
        "def make_shapes(df_in, ia_ur_cut):\n",
        "    \n",
        "    df = df_in.copy(deep=True)\n",
        "\n",
        "    # use this color index for red blue definitions\n",
        "    ia_ur = df['cfht_u_abs_mag'] - df['subaru_r_abs_mag']\n",
        "\n",
        "    # define blue / red IDs\n",
        "    ia_color = np.where(\n",
        "        ia_ur < ia_ur_cut,\n",
        "        Galaxy.Color.BLUE.value,\n",
        "        Galaxy.Color.RED.value\n",
        "    ).astype('i1')\n",
        "\n",
        "    ### define satellite / central IDs\n",
        "    ia_kind = np.where(\n",
        "        cat.flag_central == 0,\n",
        "        Galaxy.Kind.CENTRAL.value,\n",
        "        Galaxy.Kind.SATELLITE.value\n",
        "    ).astype('i1')\n",
        "\n",
        "\n",
        "    ### ====== set 3D axis ratios ======\n",
        "    df['q_gal'], df['s_gal'] = ia.axis_ratio(ia_color, df['true_redshift_gal'].values, df['subaru_r_abs_mag'].values)\n",
        "\n",
        "    df['q_gal'] = df['q_gal'].astype('f4')\n",
        "    df['s_gal'] = df['s_gal'].astype('f4')\n",
        "\n",
        "\n",
        "    ### ====== set random galaxy positions and orientations ======\n",
        "\n",
        "    #position\n",
        "    vg = ia._random_vector(len(df))\n",
        "\n",
        "    #major and minor axis\n",
        "    Ag = ia._random_vector(len(df))\n",
        "    Cg = ia._random_perpendicular(Ag)\n",
        "\n",
        "\n",
        "    ### ====== get ellipticity ======\n",
        "    qg = df['q_gal'].values.T\n",
        "    sg = df['s_gal'].values.T\n",
        "\n",
        "    df['eps1_gal'], df['eps2_gal'] = ia.ellipticity(vg, qg, sg, Ag, Cg)\n",
        "    \n",
        "    df['eps1_gal'] = df['eps1_gal'].astype('f4')\n",
        "    df['eps2_gal'] = df['eps2_gal'].astype('f4')\n",
        "\n",
        "    return df"
      ],
      "metadata": {
        "id": "QXItqB8KKhDt"
      },
      "execution_count": 20,
      "outputs": []
    },
    {
      "cell_type": "markdown",
      "source": [
        "# read input catalogue"
      ],
      "metadata": {
        "id": "RBcXUo7XKpVX"
      }
    },
    {
      "cell_type": "code",
      "source": [
        "cat = pd.read_parquet('input_file.parquet')#.iloc[0:1000]"
      ],
      "metadata": {
        "id": "BuHfXoXxKmPB"
      },
      "execution_count": 23,
      "outputs": []
    },
    {
      "cell_type": "code",
      "source": [
        "print(len(cat))"
      ],
      "metadata": {
        "colab": {
          "base_uri": "https://localhost:8080/"
        },
        "id": "FBlgeLNIfRyx",
        "outputId": "96fb3abc-7ba0-44e3-91f4-1060b89e5a37"
      },
      "execution_count": 25,
      "outputs": [
        {
          "output_type": "stream",
          "name": "stdout",
          "text": [
            "229131\n"
          ]
        }
      ]
    },
    {
      "cell_type": "markdown",
      "source": [
        "# make shapes"
      ],
      "metadata": {
        "id": "T3cCVJ5LKyhL"
      }
    },
    {
      "cell_type": "code",
      "source": [
        "cat = make_shapes(cat, ia_ur_cut)"
      ],
      "metadata": {
        "id": "9zPOYdVKKrV8"
      },
      "execution_count": 24,
      "outputs": []
    },
    {
      "cell_type": "markdown",
      "source": [
        "# plot 2D axis ratio distributions"
      ],
      "metadata": {
        "id": "cKUVrr0tK66y"
      }
    },
    {
      "cell_type": "code",
      "source": [
        "eps_abs = (cat['eps1_gal']**2 + cat['eps2_gal']**2)**0.5\n",
        "cat['q_proj'] = (1-eps_abs) / (1+eps_abs)"
      ],
      "metadata": {
        "id": "CWAlFEUXK1Lp"
      },
      "execution_count": 26,
      "outputs": []
    },
    {
      "cell_type": "code",
      "source": [
        "plt.hist(cat.q_proj, bins=50, density=True, color='b')\n",
        "\n",
        "plt.xlabel(r'$q_{2D} = B_{2D}/A_{2D}$')\n",
        "plt.ylabel('P')\n",
        "plt.show()"
      ],
      "metadata": {
        "colab": {
          "base_uri": "https://localhost:8080/",
          "height": 283
        },
        "id": "VqOWcz8OLBN4",
        "outputId": "14278611-018f-4cc7-f1f6-f3b7533ed20d"
      },
      "execution_count": 27,
      "outputs": [
        {
          "output_type": "display_data",
          "data": {
            "text/plain": [
              "<Figure size 432x288 with 1 Axes>"
            ],
            "image/png": "[encoded data removed]"
          },
          "metadata": {
            "needs_background": "light"
          }
        }
      ]
    },
    {
      "cell_type": "code",
      "source": [],
      "metadata": {
        "id": "5lAIB7cafVzJ"
      },
      "execution_count": null,
      "outputs": []
    }
  ]
}